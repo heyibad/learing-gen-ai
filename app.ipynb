{
 "cells": [
  {
   "cell_type": "code",
   "execution_count": 1,
   "metadata": {},
   "outputs": [],
   "source": [
    "from langchain_ollama import ChatOllama\n",
    "\n",
    "llm = ChatOllama(\n",
    "    model=\"tinyllama\",\n",
    "    temperature=0,\n",
    "    # other params...\n",
    ")"
   ]
  },
  {
   "cell_type": "code",
   "execution_count": 2,
   "metadata": {},
   "outputs": [
    {
     "data": {
      "text/plain": [
       "AIMessage(content=\"Certainly! Here's an example of how you can use Python to write a program that translates English to French:\\n\\n```python\\nimport string\\n\\ndef translate_english_to_french(text):\\n    # Remove non-letter characters from the text\\n    text = ''.join([char for char in text if char.isalpha()])\\n    \\n    # Convert all letters to lowercase\\n    text = text.lower()\\n    \\n    # Split the text into individual words and remove any punctuation or spaces\\n    words = [word.strip() for word in text.split(' ')]\\n    \\n    # Translate each word to French using a dictionary of French-English translations\\n    translation_dict = {\\n        'a': 'an',\\n        'b': 'be',\\n        'c': 'ce',\\n        'd': 'de',\\n        'e': 'en',\\n        'f': 'fait',\\n        'g': 'genre',\\n        'h': 'he',\\n        'i': 'il',\\n        'j': 'je',\\n        'k': 'ke',\\n        'l': 'la',\\n        'm': 'me',\\n        'n': 'ne',\\n        'o': 'on',\\n        'p': 'pe',\\n        'q': 'qu'\\n    }\\n    \\n    # Translate each word to French using the translation dictionary\\n    translated_words = [translation_dict[word] for word in words]\\n    \\n    return ' '.join(translated_words)\\n```\\n\\nIn this program, we first remove non-letter characters from the input text using the `string.replace()` method. We then convert all letters to lowercase using the `string.lower()` method. Finally, we split the text into individual words and remove any punctuation or spaces using the `string.split(' ')` method.\\n\\nTo translate each word to French, we use a dictionary of French-English translations that we've created earlier. We first check if the current word is in the translation dictionary by comparing it with the corresponding English word. If the two words are equal, we simply return the translated word without doing anything else. Otherwise, we translate the current word to French using the translation dictionary and add it to a list of translated words.\\n\\nFinally, we join all the translated words into a single string and return it as the output of the program.\", additional_kwargs={}, response_metadata={'model': 'tinyllama', 'created_at': '2025-02-05T07:55:52.571435626Z', 'done': True, 'done_reason': 'stop', 'total_duration': 19584884760, 'load_duration': 7521155, 'prompt_eval_count': 50, 'prompt_eval_duration': 573000000, 'eval_count': 539, 'eval_duration': 19002000000, 'message': Message(role='assistant', content='', images=None, tool_calls=None)}, id='run-6e4ed902-9b1e-4ee0-98a8-e3a467b8c6da-0', usage_metadata={'input_tokens': 50, 'output_tokens': 539, 'total_tokens': 589})"
      ]
     },
     "execution_count": 2,
     "metadata": {},
     "output_type": "execute_result"
    }
   ],
   "source": [
    "from langchain_core.messages import AIMessage\n",
    "\n",
    "messages = [\n",
    "    (\n",
    "        \"system\",\n",
    "        \"You are a helpful assistant that translates English to French. Translate the user sentence.\",\n",
    "    ),\n",
    "    (\"human\", \"I love programming.\"),\n",
    "]\n",
    "ai_msg = llm.invoke(messages)\n",
    "ai_msg"
   ]
  },
  {
   "cell_type": "code",
   "execution_count": 3,
   "metadata": {},
   "outputs": [
    {
     "name": "stdout",
     "output_type": "stream",
     "text": [
      "Certainly! Here's an example of how you can use Python to write a program that translates English to French:\n",
      "\n",
      "```python\n",
      "import string\n",
      "\n",
      "def translate_english_to_french(text):\n",
      "    # Remove non-letter characters from the text\n",
      "    text = ''.join([char for char in text if char.isalpha()])\n",
      "    \n",
      "    # Convert all letters to lowercase\n",
      "    text = text.lower()\n",
      "    \n",
      "    # Split the text into individual words and remove any punctuation or spaces\n",
      "    words = [word.strip() for word in text.split(' ')]\n",
      "    \n",
      "    # Translate each word to French using a dictionary of French-English translations\n",
      "    translation_dict = {\n",
      "        'a': 'an',\n",
      "        'b': 'be',\n",
      "        'c': 'ce',\n",
      "        'd': 'de',\n",
      "        'e': 'en',\n",
      "        'f': 'fait',\n",
      "        'g': 'genre',\n",
      "        'h': 'he',\n",
      "        'i': 'il',\n",
      "        'j': 'je',\n",
      "        'k': 'ke',\n",
      "        'l': 'la',\n",
      "        'm': 'me',\n",
      "        'n': 'ne',\n",
      "        'o': 'on',\n",
      "        'p': 'pe',\n",
      "        'q': 'qu'\n",
      "    }\n",
      "    \n",
      "    # Translate each word to French using the translation dictionary\n",
      "    translated_words = [translation_dict[word] for word in words]\n",
      "    \n",
      "    return ' '.join(translated_words)\n",
      "```\n",
      "\n",
      "In this program, we first remove non-letter characters from the input text using the `string.replace()` method. We then convert all letters to lowercase using the `string.lower()` method. Finally, we split the text into individual words and remove any punctuation or spaces using the `string.split(' ')` method.\n",
      "\n",
      "To translate each word to French, we use a dictionary of French-English translations that we've created earlier. We first check if the current word is in the translation dictionary by comparing it with the corresponding English word. If the two words are equal, we simply return the translated word without doing anything else. Otherwise, we translate the current word to French using the translation dictionary and add it to a list of translated words.\n",
      "\n",
      "Finally, we join all the translated words into a single string and return it as the output of the program.\n"
     ]
    }
   ],
   "source": [
    "print(ai_msg.content)"
   ]
  }
 ],
 "metadata": {
  "kernelspec": {
   "display_name": "Python 3",
   "language": "python",
   "name": "python3"
  },
  "language_info": {
   "codemirror_mode": {
    "name": "ipython",
    "version": 3
   },
   "file_extension": ".py",
   "mimetype": "text/x-python",
   "name": "python",
   "nbconvert_exporter": "python",
   "pygments_lexer": "ipython3",
   "version": "3.12.1"
  }
 },
 "nbformat": 4,
 "nbformat_minor": 2
}
